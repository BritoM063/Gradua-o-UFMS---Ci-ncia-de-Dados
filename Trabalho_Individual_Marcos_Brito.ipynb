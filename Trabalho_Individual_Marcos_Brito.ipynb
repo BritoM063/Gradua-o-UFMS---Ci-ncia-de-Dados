{
  "nbformat": 4,
  "nbformat_minor": 0,
  "metadata": {
    "colab": {
      "provenance": [],
      "authorship_tag": "ABX9TyMVEeKhMh+EOqbj8/jE5DCL",
      "include_colab_link": true
    },
    "kernelspec": {
      "name": "python3",
      "display_name": "Python 3"
    },
    "language_info": {
      "name": "python"
    }
  },
  "cells": [
    {
      "cell_type": "markdown",
      "metadata": {
        "id": "view-in-github",
        "colab_type": "text"
      },
      "source": [
        "<a href=\"https://colab.research.google.com/github/BritoM063/Gradua-o-UFMS---Ci-ncia-de-Dados/blob/main/Trabalho_Individual_Marcos_Brito.ipynb\" target=\"_parent\"><img src=\"https://colab.research.google.com/assets/colab-badge.svg\" alt=\"Open In Colab\"/></a>"
      ]
    },
    {
      "cell_type": "code",
      "source": [],
      "metadata": {
        "id": "5BRLZFlkyMie"
      },
      "execution_count": null,
      "outputs": []
    },
    {
      "cell_type": "code",
      "execution_count": null,
      "metadata": {
        "colab": {
          "base_uri": "https://localhost:8080/"
        },
        "id": "vTYQQ_Wnx0d3",
        "outputId": "b077dfe3-2564-4999-b30d-41e7d6c51a1a"
      },
      "outputs": [
        {
          "output_type": "stream",
          "name": "stdout",
          "text": [
            "Digite o tempo gasto pelo veículo (em horas): 12\n",
            "Digite a velocidade média do veículo (em km/h): 50\n",
            "Digite o consumo médio do veículo (em km/L): 15\n",
            "Distância percorrida: 600.00 km\n",
            "Quantidade de combustível gasta: 40.00 L\n",
            "Autonomia do veículo: 15.00 km/L\n"
          ]
        }
      ],
      "source": [
        "tempo = float(input(\"Digite o tempo gasto pelo veículo (em horas): \"))\n",
        "velocidade = float(input(\"Digite a velocidade média do veículo (em km/h): \"))\n",
        "consumo = float(input(\"Digite o consumo médio do veículo (em km/L): \"))\n",
        "\n",
        "distancia = tempo * velocidade\n",
        "combustivel_gasto = distancia / consumo\n",
        "autonomia = distancia / combustivel_gasto\n",
        "\n",
        "print(f\"Distância percorrida: {distancia:.2f} km\")\n",
        "print(f\"Quantidade de combustível gasta: {combustivel_gasto:.2f} L\")\n",
        "print(f\"Autonomia do veículo: {autonomia:.2f} km/L\")\n"
      ]
    },
    {
      "cell_type": "markdown",
      "source": [
        "Digite o tempo gasto pelo veículo (em horas): 12\n",
        "\n",
        "Digite a velocidade média do veículo (em km/h): 50\n",
        "\n",
        "A quantidade de combustível gasta é: 40.0 litros.\n",
        "\n",
        "---\n",
        "\n"
      ],
      "metadata": {
        "id": "qIt4F9NSyUvQ"
      }
    },
    {
      "cell_type": "code",
      "source": [],
      "metadata": {
        "id": "CdJ8V37Wybau"
      },
      "execution_count": null,
      "outputs": []
    }
  ]
}