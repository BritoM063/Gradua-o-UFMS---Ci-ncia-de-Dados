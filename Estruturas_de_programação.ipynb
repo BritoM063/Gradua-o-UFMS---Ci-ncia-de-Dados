{
  "nbformat": 4,
  "nbformat_minor": 0,
  "metadata": {
    "colab": {
      "provenance": [],
      "authorship_tag": "ABX9TyMA2TkyIpy7wxYJEUK3hSSJ",
      "include_colab_link": true
    },
    "kernelspec": {
      "name": "python3",
      "display_name": "Python 3"
    },
    "language_info": {
      "name": "python"
    }
  },
  "cells": [
    {
      "cell_type": "markdown",
      "metadata": {
        "id": "view-in-github",
        "colab_type": "text"
      },
      "source": [
        "<a href=\"https://colab.research.google.com/github/BritoM063/Gradua-o-UFMS---Ci-ncia-de-Dados/blob/main/Estruturas_de_programa%C3%A7%C3%A3o.ipynb\" target=\"_parent\"><img src=\"https://colab.research.google.com/assets/colab-badge.svg\" alt=\"Open In Colab\"/></a>"
      ]
    },
    {
      "cell_type": "code",
      "execution_count": null,
      "metadata": {
        "colab": {
          "base_uri": "https://localhost:8080/"
        },
        "id": "VyDC833-EKr5",
        "outputId": "94efe567-6aac-41a9-f6fb-baf1d3cabbde"
      },
      "outputs": [
        {
          "name": "stdout",
          "output_type": "stream",
          "text": [
            "Cadastro de preços de hortifrutis\n",
            "----------------------------------\n",
            "Digite a quantidade de produtos: 2\n",
            "Digite o nome do produto: laranja\n",
            "Digite o preço do produto: 3.8\n",
            "Digite o nome do produto: maça\n",
            "Digite o preço do produto: 6.4\n",
            "\n",
            "Busca de preços de hortifrutis\n",
            "----------------------------------\n",
            "Digite o nome do produto (ou Fim para encerrar): laranja\n",
            "O preço do produto laranja é R$ 3.80\n",
            "Digite o nome do produto (ou Fim para encerrar): fim\n"
          ]
        }
      ],
      "source": [
        "# Função para ler os produtos e preços\n",
        "def ler_produtos():\n",
        "    n = int(input(\"Digite a quantidade de produtos: \"))\n",
        "    produtos = {}\n",
        "\n",
        "    for i in range(n):\n",
        "        produto = input(\"Digite o nome do produto: \")\n",
        "        preco = float(input(\"Digite o preço do produto: \"))\n",
        "        if produto.lower() in produtos:\n",
        "            print(\"Produto já cadastrado\")\n",
        "        else:\n",
        "            produtos[produto.lower()] = preco\n",
        "\n",
        "    return produtos\n",
        "\n",
        "\n",
        "# Função para buscar o preço de um produto\n",
        "def buscar_preco(produtos):\n",
        "    while True:\n",
        "        produto = input(\"Digite o nome do produto (ou Fim para encerrar): \")\n",
        "        if produto.lower() == \"fim\":\n",
        "            break\n",
        "        elif produto.lower() in produtos:\n",
        "            print(f\"O preço do produto {produto} é R$ {produtos[produto.lower()]:.2f}\")\n",
        "        else:\n",
        "            print(\"Produto não cadastrado\")\n",
        "\n",
        "\n",
        "# Programa principal\n",
        "print(\"Cadastro de preços de hortifrutis\")\n",
        "print(\"----------------------------------\")\n",
        "\n",
        "lista_produtos = ler_produtos()\n",
        "\n",
        "print(\"\\nBusca de preços de hortifrutis\")\n",
        "print(\"----------------------------------\")\n",
        "\n",
        "buscar_preco(lista_produtos)\n"
      ]
    },
    {
      "cell_type": "code",
      "source": [
        "inicio = int(input())\n",
        "fim = int(input())\n",
        "\n",
        "soma = 0\n",
        "for i in range(inicio, fim+1):\n",
        "    soma += i\n",
        "\n",
        "print(soma)\n"
      ],
      "metadata": {
        "id": "GAOoawKkENVX",
        "colab": {
          "base_uri": "https://localhost:8080/"
        },
        "outputId": "5c0c3e0d-2a67-4ba4-f9a9-8f4cbc4a87b3"
      },
      "execution_count": 7,
      "outputs": [
        {
          "output_type": "stream",
          "name": "stdout",
          "text": [
            "1\n",
            "100\n",
            "5050\n"
          ]
        }
      ]
    },
    {
      "cell_type": "code",
      "source": [
        "numero = input(\"Digite um número natural: \")\n",
        "tamanho = len(numero)\n",
        "\n",
        "if numero == numero[::-1]:\n",
        "    print(\"sim\")\n",
        "else:\n",
        "    print(\"não\")"
      ],
      "metadata": {
        "colab": {
          "base_uri": "https://localhost:8080/"
        },
        "id": "6-SuRtZPNCXt",
        "outputId": "0181d7a4-f849-4e84-ec42-eab617da6d55"
      },
      "execution_count": 10,
      "outputs": [
        {
          "output_type": "stream",
          "name": "stdout",
          "text": [
            "Digite um número natural: 34134223\n",
            "não\n"
          ]
        }
      ]
    }
  ]
}